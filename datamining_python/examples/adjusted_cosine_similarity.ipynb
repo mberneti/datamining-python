{
 "cells": [
  {
   "cell_type": "code",
   "execution_count": 1,
   "metadata": {},
   "outputs": [],
   "source": [
    "import sys\n",
    "import pandas as pd\n",
    "from helpers.plot_helper import PlotHelper\n",
    "from math import sqrt"
   ]
  },
  {
   "cell_type": "markdown",
   "metadata": {},
   "source": [
    "### Load JSON dataset by pandas"
   ]
  },
  {
   "cell_type": "code",
   "execution_count": 2,
   "metadata": {
    "scrolled": true
   },
   "outputs": [],
   "source": [
    "ratings_grade_inflation2_dataframe = pd.read_json('../data/ratings_grade_inflation2.json')\n",
    "ratings_grade_inflation2_dict = ratings_grade_inflation2_dataframe.to_dict()"
   ]
  },
  {
   "cell_type": "markdown",
   "metadata": {},
   "source": [
    "### Display dataset"
   ]
  },
  {
   "cell_type": "code",
   "execution_count": 3,
   "metadata": {},
   "outputs": [
    {
     "data": {
      "text/html": [
       "<div>\n",
       "<style scoped>\n",
       "    .dataframe tbody tr th:only-of-type {\n",
       "        vertical-align: middle;\n",
       "    }\n",
       "\n",
       "    .dataframe tbody tr th {\n",
       "        vertical-align: top;\n",
       "    }\n",
       "\n",
       "    .dataframe thead th {\n",
       "        text-align: right;\n",
       "    }\n",
       "</style>\n",
       "<table border=\"1\" class=\"dataframe\">\n",
       "  <thead>\n",
       "    <tr style=\"text-align: right;\">\n",
       "      <th></th>\n",
       "      <th>m1</th>\n",
       "      <th>m2</th>\n",
       "      <th>m3</th>\n",
       "      <th>m4</th>\n",
       "    </tr>\n",
       "  </thead>\n",
       "  <tbody>\n",
       "    <tr>\n",
       "      <th>saeed</th>\n",
       "      <td>1.0</td>\n",
       "      <td>2.00</td>\n",
       "      <td>3.0</td>\n",
       "      <td>4.0</td>\n",
       "    </tr>\n",
       "    <tr>\n",
       "      <th>abbas</th>\n",
       "      <td>2.0</td>\n",
       "      <td>3.00</td>\n",
       "      <td>2.0</td>\n",
       "      <td>3.0</td>\n",
       "    </tr>\n",
       "    <tr>\n",
       "      <th>alireza</th>\n",
       "      <td>4.5</td>\n",
       "      <td>4.65</td>\n",
       "      <td>4.8</td>\n",
       "      <td>5.0</td>\n",
       "    </tr>\n",
       "  </tbody>\n",
       "</table>\n",
       "</div>"
      ],
      "text/plain": [
       "          m1    m2   m3   m4\n",
       "saeed    1.0  2.00  3.0  4.0\n",
       "abbas    2.0  3.00  2.0  3.0\n",
       "alireza  4.5  4.65  4.8  5.0"
      ]
     },
     "metadata": {},
     "output_type": "display_data"
    }
   ],
   "source": [
    "ratings_grade_inflation2_dataframe = ratings_grade_inflation2_dataframe.transpose()\n",
    "display(ratings_grade_inflation2_dataframe)"
   ]
  },
  {
   "cell_type": "markdown",
   "metadata": {},
   "source": [
    "### implementation"
   ]
  },
  {
   "cell_type": "code",
   "execution_count": 6,
   "metadata": {},
   "outputs": [
    {
     "name": "stdout",
     "output_type": "stream",
     "text": [
      "saeed-alireza:0.928061\n",
      "saeed-abbas:0.930949\n"
     ]
    }
   ],
   "source": [
    "def dot(A,B): \n",
    "    return (sum(a*b for a,b in zip(A,B)))\n",
    "\n",
    "def get_cosine_similarity(rating1,rating2):\n",
    "    a = rating1.values()\n",
    "    b = rating2.values()\n",
    "    return dot(a,b) / ( (dot(a,a) **.5) * (dot(b,b) ** .5) )\n",
    "\n",
    "dt= ratings_grade_inflation2_dict\n",
    "\n",
    "print('saeed-alireza:%f'%get_cosine_similarity(dt['saeed'],dt['alireza']))\n",
    "print('saeed-abbas:%f'%+get_cosine_similarity(dt['saeed'],dt['abbas']))"
   ]
  },
  {
   "cell_type": "code",
   "execution_count": 9,
   "metadata": {},
   "outputs": [
    {
     "name": "stdout",
     "output_type": "stream",
     "text": [
      "saeed-alireza:0.997257\n",
      "saeed-abbas:0.447214\n"
     ]
    }
   ],
   "source": [
    "def mean(lst): \n",
    "    return sum(lst) / len(lst) \n",
    "\n",
    "def dot(A,B,a_mean,b_mean): \n",
    "    return (sum((a-a_mean)*(b-b_mean) for a,b in zip(A,B)))\n",
    "\n",
    "def get_adjusted_cosine_similarity(rating1,rating2):\n",
    "    a = rating1.values()\n",
    "    a_mean = mean(a)\n",
    "    b = rating2.values()\n",
    "    b_mean = mean(b)\n",
    "    return dot(a,b,a_mean,b_mean) / ( (dot(a,a,a_mean,a_mean) **.5) * (dot(b,b,b_mean,b_mean) ** .5) )\n",
    "\n",
    "print('saeed-alireza:%f'%get_adjusted_cosine_similarity(dt['saeed'],dt['alireza']))\n",
    "print('saeed-abbas:%f'%+get_adjusted_cosine_similarity(dt['saeed'],dt['abbas']))"
   ]
  }
 ],
 "metadata": {
  "kernelspec": {
   "display_name": "Python 3",
   "language": "python",
   "name": "python3"
  },
  "language_info": {
   "codemirror_mode": {
    "name": "ipython",
    "version": 3
   },
   "file_extension": ".py",
   "mimetype": "text/x-python",
   "name": "python",
   "nbconvert_exporter": "python",
   "pygments_lexer": "ipython3",
   "version": "3.7.6"
  }
 },
 "nbformat": 4,
 "nbformat_minor": 4
}
