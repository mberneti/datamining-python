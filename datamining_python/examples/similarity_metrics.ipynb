{
 "cells": [
  {
   "cell_type": "code",
   "execution_count": 1,
   "metadata": {},
   "outputs": [],
   "source": [
    "import sys\n",
    "import pandas as pd\n",
    "from helpers.plot_helper import PlotHelper"
   ]
  },
  {
   "cell_type": "markdown",
   "metadata": {},
   "source": [
    "### Load JSON dataset by pandas"
   ]
  },
  {
   "cell_type": "code",
   "execution_count": 2,
   "metadata": {
    "scrolled": true
   },
   "outputs": [],
   "source": [
    "ratings_sparseness_dataframe = pd.read_json('../data/ratings_sparseness.json')\n",
    "ratings_sparseness_dict = ratings_sparseness_dataframe.to_dict()\n",
    "\n",
    "ratings_sparseness_zero_dataframe = pd.read_json('../data/ratings_sparseness_zero.json')\n",
    "ratings_sparseness_zero_dict = ratings_sparseness_zero_dataframe.to_dict()"
   ]
  },
  {
   "cell_type": "markdown",
   "metadata": {},
   "source": [
    "### Display dataset"
   ]
  },
  {
   "cell_type": "code",
   "execution_count": 3,
   "metadata": {},
   "outputs": [
    {
     "data": {
      "text/html": [
       "<div>\n",
       "<style scoped>\n",
       "    .dataframe tbody tr th:only-of-type {\n",
       "        vertical-align: middle;\n",
       "    }\n",
       "\n",
       "    .dataframe tbody tr th {\n",
       "        vertical-align: top;\n",
       "    }\n",
       "\n",
       "    .dataframe thead th {\n",
       "        text-align: right;\n",
       "    }\n",
       "</style>\n",
       "<table border=\"1\" class=\"dataframe\">\n",
       "  <thead>\n",
       "    <tr style=\"text-align: right;\">\n",
       "      <th></th>\n",
       "      <th>m1</th>\n",
       "      <th>m2</th>\n",
       "      <th>m3</th>\n",
       "      <th>m4</th>\n",
       "      <th>m5</th>\n",
       "      <th>m6</th>\n",
       "      <th>m7</th>\n",
       "      <th>m8</th>\n",
       "      <th>m9</th>\n",
       "      <th>m10</th>\n",
       "    </tr>\n",
       "  </thead>\n",
       "  <tbody>\n",
       "    <tr>\n",
       "      <th>saeed</th>\n",
       "      <td>4</td>\n",
       "      <td>2</td>\n",
       "      <td>5</td>\n",
       "      <td>-</td>\n",
       "      <td>1</td>\n",
       "      <td>2</td>\n",
       "      <td>3</td>\n",
       "      <td>5</td>\n",
       "      <td>-</td>\n",
       "      <td>-</td>\n",
       "    </tr>\n",
       "    <tr>\n",
       "      <th>abbas</th>\n",
       "      <td>3</td>\n",
       "      <td>-</td>\n",
       "      <td>4</td>\n",
       "      <td>2</td>\n",
       "      <td>-</td>\n",
       "      <td>-</td>\n",
       "      <td>-</td>\n",
       "      <td>-</td>\n",
       "      <td>-</td>\n",
       "      <td>-</td>\n",
       "    </tr>\n",
       "    <tr>\n",
       "      <th>alireza</th>\n",
       "      <td>3</td>\n",
       "      <td>-</td>\n",
       "      <td>4</td>\n",
       "      <td>5</td>\n",
       "      <td>1</td>\n",
       "      <td>2</td>\n",
       "      <td>3</td>\n",
       "      <td>5</td>\n",
       "      <td>5</td>\n",
       "      <td>5</td>\n",
       "    </tr>\n",
       "  </tbody>\n",
       "</table>\n",
       "</div>"
      ],
      "text/plain": [
       "        m1 m2 m3 m4 m5 m6 m7 m8 m9 m10\n",
       "saeed    4  2  5  -  1  2  3  5  -   -\n",
       "abbas    3  -  4  2  -  -  -  -  -   -\n",
       "alireza  3  -  4  5  1  2  3  5  5   5"
      ]
     },
     "metadata": {},
     "output_type": "display_data"
    },
    {
     "data": {
      "text/html": [
       "<div>\n",
       "<style scoped>\n",
       "    .dataframe tbody tr th:only-of-type {\n",
       "        vertical-align: middle;\n",
       "    }\n",
       "\n",
       "    .dataframe tbody tr th {\n",
       "        vertical-align: top;\n",
       "    }\n",
       "\n",
       "    .dataframe thead th {\n",
       "        text-align: right;\n",
       "    }\n",
       "</style>\n",
       "<table border=\"1\" class=\"dataframe\">\n",
       "  <thead>\n",
       "    <tr style=\"text-align: right;\">\n",
       "      <th></th>\n",
       "      <th>m1</th>\n",
       "      <th>m2</th>\n",
       "      <th>m3</th>\n",
       "      <th>m4</th>\n",
       "      <th>m5</th>\n",
       "      <th>m6</th>\n",
       "      <th>m7</th>\n",
       "      <th>m8</th>\n",
       "      <th>m9</th>\n",
       "      <th>m10</th>\n",
       "    </tr>\n",
       "  </thead>\n",
       "  <tbody>\n",
       "    <tr>\n",
       "      <th>saeed</th>\n",
       "      <td>4</td>\n",
       "      <td>2</td>\n",
       "      <td>5</td>\n",
       "      <td>0</td>\n",
       "      <td>1</td>\n",
       "      <td>2</td>\n",
       "      <td>3</td>\n",
       "      <td>5</td>\n",
       "      <td>0</td>\n",
       "      <td>0</td>\n",
       "    </tr>\n",
       "    <tr>\n",
       "      <th>abbas</th>\n",
       "      <td>3</td>\n",
       "      <td>0</td>\n",
       "      <td>4</td>\n",
       "      <td>2</td>\n",
       "      <td>0</td>\n",
       "      <td>0</td>\n",
       "      <td>0</td>\n",
       "      <td>0</td>\n",
       "      <td>0</td>\n",
       "      <td>0</td>\n",
       "    </tr>\n",
       "    <tr>\n",
       "      <th>alireza</th>\n",
       "      <td>3</td>\n",
       "      <td>0</td>\n",
       "      <td>4</td>\n",
       "      <td>5</td>\n",
       "      <td>1</td>\n",
       "      <td>2</td>\n",
       "      <td>3</td>\n",
       "      <td>5</td>\n",
       "      <td>5</td>\n",
       "      <td>5</td>\n",
       "    </tr>\n",
       "  </tbody>\n",
       "</table>\n",
       "</div>"
      ],
      "text/plain": [
       "         m1  m2  m3  m4  m5  m6  m7  m8  m9  m10\n",
       "saeed     4   2   5   0   1   2   3   5   0    0\n",
       "abbas     3   0   4   2   0   0   0   0   0    0\n",
       "alireza   3   0   4   5   1   2   3   5   5    5"
      ]
     },
     "metadata": {},
     "output_type": "display_data"
    }
   ],
   "source": [
    "ratings_sparseness_dataframe = ratings_sparseness_dataframe.transpose()\n",
    "display(ratings_sparseness_dataframe)\n",
    "\n",
    "ratings_sparseness_zero_dataframe = ratings_sparseness_zero_dataframe.transpose()\n",
    "display(ratings_sparseness_zero_dataframe)"
   ]
  },
  {
   "cell_type": "markdown",
   "metadata": {},
   "source": [
    "### distance metric implementation"
   ]
  },
  {
   "cell_type": "code",
   "execution_count": 4,
   "metadata": {},
   "outputs": [
    {
     "name": "stdout",
     "output_type": "stream",
     "text": [
      "real:\n",
      "saeed-alireza:2.000000\n",
      "saeed-abbas:2.000000\n",
      "zero base:\n",
      "saeed-alireza:19.000000\n",
      "saeed-abbas:17.000000\n"
     ]
    }
   ],
   "source": [
    "def get_manhattan_distance(rating1,rating2):\n",
    "    \n",
    "    rating1 = dict(filter(lambda x: x[1] != '-', rating1.items()))\n",
    "    rating2 = dict(filter(lambda x: x[1] != '-', rating2.items()))\n",
    "    \n",
    "    distance = 0\n",
    "    for key in rating1:\n",
    "        if key in rating2:\n",
    "            distance += abs(rating1[key] - rating2[key])\n",
    "    return distance\n",
    "\n",
    "dt=ratings_sparseness_dict\n",
    "\n",
    "\n",
    "print('real:')\n",
    "print('saeed-alireza:%f'%get_manhattan_distance(dt['saeed'],dt['alireza']))\n",
    "print('saeed-abbas:%f'%+get_manhattan_distance(dt['saeed'],dt['abbas']))\n",
    "\n",
    "dt=ratings_sparseness_zero_dict\n",
    "\n",
    "print('zero base:')\n",
    "print('saeed-alireza:%f'%get_manhattan_distance(dt['saeed'],dt['alireza']))\n",
    "print('saeed-abbas:%f'%+get_manhattan_distance(dt['saeed'],dt['abbas']))"
   ]
  },
  {
   "cell_type": "code",
   "execution_count": 5,
   "metadata": {},
   "outputs": [
    {
     "name": "stdout",
     "output_type": "stream",
     "text": [
      "real:\n",
      "saeed-alireza:1.414214\n",
      "saeed-abbas:1.414214\n",
      "zero base:\n",
      "saeed-alireza:9.000000\n",
      "saeed-abbas:7.000000\n"
     ]
    }
   ],
   "source": [
    "def get_euclidean_distance(rating1,rating2):\n",
    "    \n",
    "    \n",
    "    rating1 = dict(filter(lambda x: x[1] != '-', rating1.items()))\n",
    "    rating2 = dict(filter(lambda x: x[1] != '-', rating2.items()))\n",
    "    \n",
    "    distance = 0\n",
    "    for key in rating1:\n",
    "        if key in rating2:\n",
    "            distance += pow(abs(rating1[key]-rating2[key]), 2)\n",
    "    return pow(distance, 1/2)\n",
    "\n",
    "dt=ratings_sparseness_dict\n",
    "\n",
    "print('real:')\n",
    "print('saeed-alireza:%f'%get_euclidean_distance(dt['saeed'],dt['alireza']))\n",
    "print('saeed-abbas:%f'%+get_euclidean_distance(dt['saeed'],dt['abbas']))\n",
    "\n",
    "dt=ratings_sparseness_zero_dict\n",
    "\n",
    "print('zero base:')\n",
    "print('saeed-alireza:%f'%get_euclidean_distance(dt['saeed'],dt['alireza']))\n",
    "print('saeed-abbas:%f'%+get_euclidean_distance(dt['saeed'],dt['abbas']))"
   ]
  },
  {
   "cell_type": "code",
   "execution_count": 6,
   "metadata": {
    "scrolled": true
   },
   "outputs": [
    {
     "name": "stdout",
     "output_type": "stream",
     "text": [
      "real:\n",
      "saeed-alireza:0.777378\n",
      "saeed-abbas:0.607831\n",
      "zero base:\n",
      "saeed-alireza:0.657069\n",
      "saeed-abbas:0.648353\n"
     ]
    }
   ],
   "source": [
    "def dot(A,B): \n",
    "    return (sum(a*b for a,b in zip(A,B)))\n",
    "\n",
    "def cosine_similarity(rating1,rating2):\n",
    "    rating1 = dict(filter(lambda x: x[1] != '-', rating1.items()))\n",
    "    rating2 = dict(filter(lambda x: x[1] != '-', rating2.items()))\n",
    "    a = rating1.values()\n",
    "    b = rating2.values()\n",
    "    return dot(a,b) / ( (dot(a,a) **.5) * (dot(b,b) ** .5) )\n",
    "\n",
    "dt=ratings_sparseness_dict\n",
    "\n",
    "print('real:')\n",
    "print('saeed-alireza:%f'%cosine_similarity(dt['saeed'],dt['alireza']))\n",
    "print('saeed-abbas:%f'%+cosine_similarity(dt['saeed'],dt['abbas']))\n",
    "\n",
    "dt=ratings_sparseness_zero_dict\n",
    "\n",
    "print('zero base:')\n",
    "print('saeed-alireza:%f'%cosine_similarity(dt['saeed'],dt['alireza']))\n",
    "print('saeed-abbas:%f'%+cosine_similarity(dt['saeed'],dt['abbas']))"
   ]
  }
 ],
 "metadata": {
  "kernelspec": {
   "display_name": "Python 3",
   "language": "python",
   "name": "python3"
  },
  "language_info": {
   "codemirror_mode": {
    "name": "ipython",
    "version": 3
   },
   "file_extension": ".py",
   "mimetype": "text/x-python",
   "name": "python",
   "nbconvert_exporter": "python",
   "pygments_lexer": "ipython3",
   "version": "3.7.6"
  }
 },
 "nbformat": 4,
 "nbformat_minor": 4
}
