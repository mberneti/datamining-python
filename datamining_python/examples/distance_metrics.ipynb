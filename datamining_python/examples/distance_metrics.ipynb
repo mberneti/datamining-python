{
 "cells": [
  {
   "cell_type": "code",
   "execution_count": 3,
   "metadata": {},
   "outputs": [
    {
     "ename": "SyntaxError",
     "evalue": "invalid syntax (<ipython-input-3-9040ba992fab>, line 3)",
     "output_type": "error",
     "traceback": [
      "\u001b[0;36m  File \u001b[0;32m\"<ipython-input-3-9040ba992fab>\"\u001b[0;36m, line \u001b[0;32m3\u001b[0m\n\u001b[0;31m    from ../helpers.plot_helper import PlotHelper\u001b[0m\n\u001b[0m           ^\u001b[0m\n\u001b[0;31mSyntaxError\u001b[0m\u001b[0;31m:\u001b[0m invalid syntax\n"
     ]
    }
   ],
   "source": [
    "import sys\n",
    "import pandas as pd\n",
    "from helpers.plot_helper import PlotHelper"
   ]
  },
  {
   "cell_type": "markdown",
   "metadata": {},
   "source": [
    "### Load JSON dataset by pandas"
   ]
  },
  {
   "cell_type": "code",
   "execution_count": 2,
   "metadata": {
    "scrolled": true
   },
   "outputs": [],
   "source": [
    "movie_rating_simple_dataframe = pd.read_json('../data/movieratings_simple.json')\n",
    "movie_rating_simple_dict = movie_rating_simple_dataframe.to_dict()"
   ]
  },
  {
   "cell_type": "markdown",
   "metadata": {},
   "source": [
    "### Display dataset"
   ]
  },
  {
   "cell_type": "code",
   "execution_count": 3,
   "metadata": {},
   "outputs": [
    {
     "data": {
      "text/html": [
       "<div>\n",
       "<style scoped>\n",
       "    .dataframe tbody tr th:only-of-type {\n",
       "        vertical-align: middle;\n",
       "    }\n",
       "\n",
       "    .dataframe tbody tr th {\n",
       "        vertical-align: top;\n",
       "    }\n",
       "\n",
       "    .dataframe thead th {\n",
       "        text-align: right;\n",
       "    }\n",
       "</style>\n",
       "<table border=\"1\" class=\"dataframe\">\n",
       "  <thead>\n",
       "    <tr style=\"text-align: right;\">\n",
       "      <th></th>\n",
       "      <th>Forrest Gump</th>\n",
       "      <th>Fight Club</th>\n",
       "    </tr>\n",
       "  </thead>\n",
       "  <tbody>\n",
       "    <tr>\n",
       "      <th>saeed</th>\n",
       "      <td>3</td>\n",
       "      <td>1</td>\n",
       "    </tr>\n",
       "    <tr>\n",
       "      <th>abbas</th>\n",
       "      <td>5</td>\n",
       "      <td>2</td>\n",
       "    </tr>\n",
       "    <tr>\n",
       "      <th>mahdi</th>\n",
       "      <td>4</td>\n",
       "      <td>1</td>\n",
       "    </tr>\n",
       "    <tr>\n",
       "      <th>hasan</th>\n",
       "      <td>4</td>\n",
       "      <td>5</td>\n",
       "    </tr>\n",
       "    <tr>\n",
       "      <th>alireza</th>\n",
       "      <td>5</td>\n",
       "      <td>3</td>\n",
       "    </tr>\n",
       "  </tbody>\n",
       "</table>\n",
       "</div>"
      ],
      "text/plain": [
       "         Forrest Gump  Fight Club\n",
       "saeed               3           1\n",
       "abbas               5           2\n",
       "mahdi               4           1\n",
       "hasan               4           5\n",
       "alireza             5           3"
      ]
     },
     "execution_count": 3,
     "metadata": {},
     "output_type": "execute_result"
    }
   ],
   "source": [
    "movie_rating_simple_dataframe = movie_rating_simple_dataframe.transpose()\n",
    "movie_rating_simple_dataframe"
   ]
  },
  {
   "cell_type": "code",
   "execution_count": 5,
   "metadata": {},
   "outputs": [
    {
     "name": "stdout",
     "output_type": "stream",
     "text": [
      "s\n"
     ]
    }
   ],
   "source": [
    "PlotHelper(movie_rating_simple_dict).draw_plot('Forrest Gump','Fight Club')"
   ]
  },
  {
   "cell_type": "markdown",
   "metadata": {},
   "source": [
    "### distance metric implementation"
   ]
  },
  {
   "cell_type": "code",
   "execution_count": 5,
   "metadata": {},
   "outputs": [
    {
     "name": "stdout",
     "output_type": "stream",
     "text": [
      "abbas-hasan:4\n",
      "abbas-alireza:1\n",
      "abbas-mahdi:2\n",
      "abbas-saeed:3\n"
     ]
    }
   ],
   "source": [
    "def get_manhattan_distance(rating1,rating2):\n",
    "    distance = 0\n",
    "    for key in rating1:\n",
    "        if key in rating2:\n",
    "            distance += abs(rating1[key] - rating2[key])\n",
    "    return distance\n",
    "\n",
    "dt=movie_rating_simple_dict\n",
    "\n",
    "print('abbas-hasan:%s'%+get_manhattan_distance(dt['abbas'],dt['hasan']))\n",
    "print('abbas-alireza:%s'%get_manhattan_distance(dt['abbas'],dt['alireza']))\n",
    "print('abbas-mahdi:%s'%+get_manhattan_distance(dt['abbas'],dt['mahdi']))\n",
    "print('abbas-saeed:%s'%+get_manhattan_distance(dt['abbas'],dt['saeed']))"
   ]
  },
  {
   "cell_type": "code",
   "execution_count": 6,
   "metadata": {},
   "outputs": [
    {
     "name": "stdout",
     "output_type": "stream",
     "text": [
      "abbas-hasan:3.162278\n",
      "abbas-alireza:1.000000\n",
      "abbas-mahdi:1.414214\n",
      "abbas-saeed:2.236068\n"
     ]
    }
   ],
   "source": [
    "def get_euclidean_distance(rating1,rating2):\n",
    "    distance = 0\n",
    "    for key in rating1:\n",
    "        if key in rating2:\n",
    "            distance += pow(abs(rating1[key]-rating2[key]), 2)\n",
    "    return pow(distance, 1/2)\n",
    "\n",
    "dt=movie_rating_simple_dict\n",
    "\n",
    "print('abbas-hasan:%f'%+get_euclidean_distance(dt['abbas'],dt['hasan']))\n",
    "print('abbas-alireza:%f'%get_euclidean_distance(dt['abbas'],dt['alireza']))\n",
    "print('abbas-mahdi:%f'%+get_euclidean_distance(dt['abbas'],dt['mahdi']))\n",
    "print('abbas-saeed:%f'%+get_euclidean_distance(dt['abbas'],dt['saeed']))"
   ]
  },
  {
   "cell_type": "code",
   "execution_count": 7,
   "metadata": {
    "scrolled": true
   },
   "outputs": [
    {
     "name": "stdout",
     "output_type": "stream",
     "text": [
      "abbas-hasan:3\n",
      "abbas-alireza:1\n",
      "abbas-mahdi:1\n",
      "abbas-saeed:2\n"
     ]
    }
   ],
   "source": [
    "def get_chebychev_distance(rating1,rating2):\n",
    "    distance = 0\n",
    "    for key in rating1:\n",
    "        if key in rating2:\n",
    "            candidate_distance = abs(rating1[key] - rating2[key])\n",
    "            if(candidate_distance>distance):\n",
    "                distance = candidate_distance            \n",
    "    return distance\n",
    "\n",
    "dt=movie_rating_simple_dict\n",
    "\n",
    "print('abbas-hasan:%s'%+get_chebychev_distance(dt['abbas'],dt['hasan']))\n",
    "print('abbas-alireza:%s'%get_chebychev_distance(dt['abbas'],dt['alireza']))\n",
    "print('abbas-mahdi:%s'%+get_chebychev_distance(dt['abbas'],dt['mahdi']))\n",
    "print('abbas-saeed:%s'%+get_chebychev_distance(dt['abbas'],dt['saeed']))"
   ]
  },
  {
   "cell_type": "code",
   "execution_count": 8,
   "metadata": {
    "scrolled": true
   },
   "outputs": [
    {
     "name": "stdout",
     "output_type": "stream",
     "text": [
      "q=1 abbas-hasan:4.000000\n",
      "q=2 abbas-hasan:3.162278\n",
      "q=3 abbas-hasan:3.000000\n"
     ]
    }
   ],
   "source": [
    "def get_minkowski_distance(rating1, rating2, q):\n",
    "    distance = 0\n",
    "    commonRatings = False\n",
    "    for key in rating1:\n",
    "        if key in rating2:\n",
    "            distance += pow(abs(rating1[key]-rating2[key]), q)\n",
    "            commonRatings = True\n",
    "    if(commonRatings):\n",
    "        return pow(distance, 1/q)\n",
    "    else:\n",
    "        return 0\n",
    "        \n",
    "dt=movie_rating_simple_dict\n",
    "\n",
    "print('q=1 abbas-hasan:%f'%get_minkowski_distance(dt['abbas'],dt['hasan'],1))\n",
    "print('q=2 abbas-hasan:%f'%+get_minkowski_distance(dt['abbas'],dt['hasan'],2))\n",
    "print('q=3 abbas-hasan:%f'%+get_minkowski_distance(dt['abbas'],dt['hasan'],300))"
   ]
  },
  {
   "cell_type": "code",
   "execution_count": null,
   "metadata": {},
   "outputs": [],
   "source": []
  }
 ],
 "metadata": {
  "kernelspec": {
   "display_name": "Python 3",
   "language": "python",
   "name": "python3"
  },
  "language_info": {
   "codemirror_mode": {
    "name": "ipython",
    "version": 3
   },
   "file_extension": ".py",
   "mimetype": "text/x-python",
   "name": "python",
   "nbconvert_exporter": "python",
   "pygments_lexer": "ipython3",
   "version": "3.7.6"
  }
 },
 "nbformat": 4,
 "nbformat_minor": 4
}
